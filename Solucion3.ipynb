{
 "cells": [
  {
   "cell_type": "markdown",
   "metadata": {},
   "source": [
    "# Regresión Lineal\n",
    "***\n",
    "\n",
    "De clic __[en este enlace](https://www.youtube.com/watch?v=QQP_-4Z_2oY)__ para ver el video."
   ]
  },
  {
   "cell_type": "markdown",
   "metadata": {},
   "source": [
    "## Lo que se queiere hacer:  \n",
    "\n",
    "De un conjunto de puntos $\\{y,x\\}$ se quiere encontrar una ecuación de la\n",
    "\n",
    "$$ y=mx+b $$\n",
    "\n",
    "tal que los datos se ajusten a una recta."
   ]
  },
  {
   "cell_type": "markdown",
   "metadata": {},
   "source": [
    "## Minimos Cuadrados:\n",
    "\n",
    "\n",
    "**Error de minimo cuadrado:**\n",
    "\n",
    "$$ MSE = R^2= \\frac{1}{N} \\sum^{N}_{i} (y_i - (m x_i + b))^2 $$\n",
    "\n",
    "\n",
    "Se quiere minimizar tal que\n",
    "\n",
    "$$\\frac{\\partial (R^2)}{\\partial m} = 0$$ <br>  $$ \\frac{\\partial (R^2)}{\\partial b} = 0 $$ \n",
    "\n",
    "\n",
    "Produce las siguientes ecuaciones para **m** y para **b** : \n",
    "\n",
    "$$ m = \\frac{N \\sum_i x_i y_i  - \\sum_i x_i \\sum_i y_i}{N\\sum_i x^2_i  - (\\sum_i x_i)^2} $$\n",
    "\n",
    "y\n",
    "\n",
    "$$ b = \\frac{\\sum_i y_i - m \\sum_i x_i}{N}  = \\bar{y} - m \\bar{x} $$\n",
    "\n"
   ]
  },
  {
   "cell_type": "markdown",
   "metadata": {},
   "source": [
    "## Proposito: \n",
    "\n",
    "Utilizar las librerias de Python para obtener una aproximación lineal a un conjunto de datos. "
   ]
  },
  {
   "cell_type": "markdown",
   "metadata": {},
   "source": [
    "***\n",
    "### Primer Ejemplo\n",
    "\n",
    "***"
   ]
  },
  {
   "cell_type": "code",
   "execution_count": 5,
   "metadata": {},
   "outputs": [],
   "source": [
    "import numpy as np\n",
    "import matplotlib.pyplot as plt\n",
    "%matplotlib inline"
   ]
  },
  {
   "cell_type": "code",
   "execution_count": 2,
   "metadata": {},
   "outputs": [],
   "source": [
    "# Libreria que tiene implementada la regresion lineal\n",
    "from sklear.linear_model import LinearRegression"
   ]
  },
  {
   "cell_type": "code",
   "execution_count": 8,
   "metadata": {},
   "outputs": [],
   "source": [
    "# Generar el conjunto de datos\n",
    "import random\n",
    "\n",
    "def lista_aleatorios(N):\n",
    "    x=[0]*N\n",
    "    for i in range(N):\n",
    "        x[i]=random.randint(0,51)\n",
    "    return x\n",
    "y = lista_aleatorios(10)"
   ]
  },
  {
   "cell_type": "code",
   "execution_count": 9,
   "metadata": {},
   "outputs": [
    {
     "name": "stdout",
     "output_type": "stream",
     "text": [
      "[47, 35, 43, 15, 19, 30, 3, 34, 42, 49]\n"
     ]
    }
   ],
   "source": [
    "print(y)"
   ]
  },
  {
   "cell_type": "code",
   "execution_count": 10,
   "metadata": {},
   "outputs": [
    {
     "data": {
      "text/plain": [
       "array([ 1,  5,  8, 15, 17, 25, 32, 42, 56, 57])"
      ]
     },
     "execution_count": 10,
     "metadata": {},
     "output_type": "execute_result"
    }
   ],
   "source": [
    "x = np.array([1,5,8,15,17,25,32,42,56,57])\n",
    "x"
   ]
  },
  {
   "cell_type": "code",
   "execution_count": 11,
   "metadata": {},
   "outputs": [],
   "source": [
    "y = np.array(y)"
   ]
  },
  {
   "cell_type": "code",
   "execution_count": 17,
   "metadata": {},
   "outputs": [],
   "source": [
    "# Instanciar el modelo\n",
    "\n",
    "linearmodel = LinearRegression()"
   ]
  },
  {
   "cell_type": "code",
   "execution_count": 15,
   "metadata": {},
   "outputs": [
    {
     "data": {
      "text/plain": [
       "array([[ 1],\n",
       "       [ 5],\n",
       "       [ 8],\n",
       "       [15],\n",
       "       [17],\n",
       "       [25],\n",
       "       [32],\n",
       "       [42],\n",
       "       [56],\n",
       "       [57]])"
      ]
     },
     "execution_count": 15,
     "metadata": {},
     "output_type": "execute_result"
    }
   ],
   "source": [
    "# Arreglar los datos\n",
    "x = x.reshape(-1,1)\n",
    "x"
   ]
  },
  {
   "cell_type": "code",
   "execution_count": 18,
   "metadata": {},
   "outputs": [
    {
     "data": {
      "text/plain": [
       "LinearRegression()"
      ]
     },
     "execution_count": 18,
     "metadata": {},
     "output_type": "execute_result"
    }
   ],
   "source": [
    "# Hacer la regresión \n",
    "linearmodel.fit(x,y)"
   ]
  },
  {
   "cell_type": "code",
   "execution_count": 20,
   "metadata": {},
   "outputs": [],
   "source": [
    "#Prediccion\n",
    "y_recta = linearmodel.predict(x)"
   ]
  },
  {
   "cell_type": "code",
   "execution_count": 21,
   "metadata": {},
   "outputs": [
    {
     "data": {
      "text/plain": [
       "array([29.35348142, 29.73195216, 30.01580521, 30.678129  , 30.86736437,\n",
       "       31.62430585, 32.28662965, 33.23280649, 34.55745408, 34.65207176])"
      ]
     },
     "execution_count": 21,
     "metadata": {},
     "output_type": "execute_result"
    }
   ],
   "source": [
    "y_recta"
   ]
  },
  {
   "cell_type": "code",
   "execution_count": 23,
   "metadata": {},
   "outputs": [
    {
     "data": {
      "image/png": "[encoded data removed]",
      "text/plain": [
       "<Figure size 432x288 with 1 Axes>"
      ]
     },
     "metadata": {
      "needs_background": "light"
     },
     "output_type": "display_data"
    }
   ],
   "source": [
    "# Figura para ver el resultado\n",
    "plt.scatter(x,y)\n",
    "plt.plot(x,y_recta, color = 'red')\n",
    "plt.show()"
   ]
  },
  { 
   "cell_type": "code",
   "execution_count": 26,
   "metadata": {},
   "outputs": [
    {
     "name": "stdout",
     "output_type": "stream",
     "text": [
      "La recta que mejor se ajusta es y=0.095x+29.259\n"
     ]
    }
   ],
   "source": [
    "# Parametros del ajuste\n",
    "m = linearmodel.coef_\n",
    "c = linearmodel.intercept_\n",
    "print(\"La recta que mejor se ajusta es y={:.3f}x+{:.3f}\".format(m[0],c))"
   ]
  },
  {
   "cell_type": "code",
   "execution_count": 27,
   "metadata": {},
   "outputs": [],
   "source": [
    "# Plot del ajuste\n",
    "\n",
    "y_ajuste = m[0]*x+c"
   ]
  },
  {
   "cell_type": "code",
   "execution_count": 29,
   "metadata": {},
   "outputs": [
    {
     "data": {
      "image/png": "[encoded data removed]",
      "text/plain": [
       "<Figure size 432x288 with 1 Axes>"
      ]
     },
     "metadata": {
      "needs_background": "light"
     },
     "output_type": "display_data"
    }
   ],
   "source": [
    "plt.grid(True)\n",
    "plt.plot(x,y)\n",
    "plt.plot(x,y_ajuste)\n",
    "plt.show()"
   ]
  },
  {
   "cell_type": "markdown",
   "metadata": {},
   "source": [
    "### Segundo Ejemplo"
   ]
  },
  {
   "cell_type": "code",
   "execution_count": 30,
   "metadata": {},
   "outputs": [
    {
     "name": "stdout",
     "output_type": "stream",
     "text": [
      "[0 1 2 3 4 5] [0.  0.2 0.8 1.2 1.5 1.9]\n"
     ]
    }
   ],
   "source": [
    "x = np.array([i for i in range(0,6)])\n",
    "y = np.array([0,0.2,0.8,1.2,1.5,1.9])\n",
    "print(x,y)"
   ]
  },
  {
   "cell_type": "code",
   "execution_count": 31,
   "metadata": {},
   "outputs": [],
   "source": [
    "from scipy.interpolate import *"
   ]
  },
  {
   "cell_type": "code",
   "execution_count": 32,
   "metadata": {},
   "outputs": [
    {
     "name": "stdout",
     "output_type": "stream",
     "text": [
      "[ 0.39428571 -0.05238095]\n"
     ]
    }
   ],
   "source": [
    "#Ajuste\n",
    "\n",
    "orden_poly = 1\n",
    "\n",
    "p1 = np.polyfit(x,y,orden_poly)\n",
    "print(p1)"
   ]
  },
  {
   "cell_type": "code",
   "execution_count": 33,
   "metadata": {},
   "outputs": [],
   "source": [
    "x_p = np.linspace(0,6,100)\n",
    "y_p = p1[0]*x_p+p1[1]"
   ]
  },
  {
   "cell_type": "code",
   "execution_count": 34,
   "metadata": {},
   "outputs": [
    {
     "data": {
      "image/png": "[encoded data removed]",
      "text/plain": [
       "<Figure size 432x288 with 1 Axes>"
      ]
     },
     "metadata": {
      "needs_background": "light"
     },
     "output_type": "display_data"
    }
   ],
   "source": [
    "plt.title(\"Exaple Linear Fit\")\n",
    "plt.scatter(x,y, s=25,c='red',label='data')\n",
    "plt.plot(x_p,y_p,label='fit')\n",
    "plt.legend()\n",
    "plt.legend(loc=2,frameon=True,title='Linear fit')\n",
    "plt.show()"
   ]
  },
  {
   "cell_type": "code",
   "execution_count": 35,
   "metadata": {},
   "outputs": [
    {
     "data": {
      "image/png": "[encoded data removed]",
      "text/plain": [
       "<Figure size 432x288 with 1 Axes>"
      ]
     },
     "metadata": {
      "needs_background": "light"
     },
     "output_type": "display_data"
    }
   ],
   "source": [
    "plt.plot(x,np.polyval(p1,x),'r-')\n",
    "plt.show()"
   ]
  },
  {
   "cell_type": "markdown",
   "metadata": {},
   "source": [
    "###  Error R2"
   ]
  },
  {
   "cell_type": "markdown",
   "metadata": {},
   "source": [
    "### Sklear Metrics"
   ]
  },
  {
   "cell_type": "code",
   "execution_count": 36,
   "metadata": {},
   "outputs": [
    {
     "data": {
      "text/plain": [
       "0.9881010031131097"
      ]
     },
     "execution_count": 36,
     "metadata": {},
     "output_type": "execute_result"
    }
   ],
   "source": [
    "from sklearn.metrics import r2_score\n",
    "x_p = x\n",
    "y_p = p1[0]*x_p+p1[1]\n",
    "r2_score(y, y_p)"
   ]
  },
  {
   "cell_type": "markdown",
   "metadata": {},
   "source": [
    "### Analítico"
   ]
  },
  {
   "cell_type": "code",
   "execution_count": 37,
   "metadata": {},
   "outputs": [],
   "source": [
    "residual = sum(pow(y-y_p,2))\n",
    "sum_square_total = len(y)*np.var(y)\n",
    "residual_square = 1 - residual/sum_square_total"
   ]
  },
  {
   "cell_type": "code",
   "execution_count": 38,
   "metadata": {},
   "outputs": [
    {
     "data": {
      "text/plain": [
       "0.9881010031131097"
      ]
     },
     "execution_count": 38,
     "metadata": {},
     "output_type": "execute_result"
    }
   ],
   "source": [
    "residual_square"
   ]
  },
  {
   "cell_type": "code",
   "execution_count": null,
   "metadata": {},
   "outputs": [],
   "source": []
  }
 ],
 "metadata": {
  "kernelspec": {
   "display_name": "Python 3",
   "language": "python",
   "name": "python3"
  },
  "language_info": {
   "codemirror_mode": {
    "name": "ipython",
    "version": 3
   },
   "file_extension": ".py",
   "mimetype": "text/x-python",
   "name": "python",
   "nbconvert_exporter": "python",
   "pygments_lexer": "ipython3",
   "version": "3.7.4"
  }
 },
 "nbformat": 4,
 "nbformat_minor": 4
}
