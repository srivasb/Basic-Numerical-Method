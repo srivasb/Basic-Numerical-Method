{
 "cells": [
  {
   "cell_type": "markdown",
   "metadata": {
    "slideshow": {
     "slide_type": "slide"
    }
   },
   "source": [
    "# Metodo de Newton-Raphson\n",
    "***\n",
    "\n",
    "De clic aquí par ver el video ó añadiendo el link  de Youtube  asi. \n",
    "\n",
    "***\n",
    "\n",
    "### Planteamiento del Problema: \n",
    "\n",
    "Se quieren encontrar las $x_i$ raices de un función $f(x)$. Es decir:\n",
    "\n",
    "$$ f(x_i)=0 $$\n"
   ]
  },
  {
   "cell_type": "markdown",
   "metadata": {
    "slideshow": {
     "slide_type": "slide"
    }
   },
   "source": [
    "### En que consiste: \n",
    "\n",
    "**Gráfica:**  \n",
    "\n",
    "<img src=\"https://upload.wikimedia.org/wikipedia/commons/thumb/8/8c/Newton_iteration.svg/1024px-Newton_iteration.svg.png\" width =\"450\" height=450  />\n"
   ]
  },
  {
   "cell_type": "markdown",
   "metadata": {
    "slideshow": {
     "slide_type": "slide"
    }
   },
   "source": [
    "### Metodo   \n",
    "\n",
    "$$ m = \\frac{df(x)}{d x} = f'(x) := \\text{pendiente} $$   $$ y=0 $$\n",
    "\n",
    "$$ x = x_1 - \\frac{f(x_1)}{f'(x_1)}$$\n",
    "\n",
    "$$ x_{n+1} = x_n - \\frac{f(x_n)}{f'(x_n)} $$"
   ]
  },
  {
   "cell_type": "markdown",
   "metadata": {
    "slideshow": {
     "slide_type": "slide"
    }
   },
   "source": [
    "### Algoritmo \n",
    "***\n",
    "\n",
    "1. Inicializar un opunto $x_1$ de partida\n",
    "2. Definir el intervalo de confianza $\\varepsilon = 10^{-6}$\n",
    "3. Empezar el bucle:  <br> \n",
    "  - Calcular siguiente punto $x_2$, y verificar:\n",
    "    - Si $|x_2 - x_1| < \\varepsilon$, terminar el bucle y reportar respuesta\n",
    "    - Si no:  Asignar nuevo punto de inicio: \n",
    "          $$ x_1 \\leftarrow x_2 $$ \n",
    "          $$ x_2 \\leftarrow f(x_1)$$"
   ]
  },
  {
   "cell_type": "code",
   "execution_count": 1,
   "metadata": {
    "slideshow": {
     "slide_type": "slide"
    }
   },
   "outputs": [],
   "source": [
    "#Libreria \n",
    "import numpy as np\n",
    "\n",
    "#Metodo\\\n",
    "def NR_method(x_start,i_top):\n",
    "    i=0\n",
    "    x_result=0\n",
    "    epsilon = 1e-6\n",
    "    while i < i_top:\n",
    "        x = x_start\n",
    "        x_start = next_point(x_start)\n",
    "        if np.absolute(x_start - x) < epsilon:\n",
    "            x_result = x_start\n",
    "            break\n",
    "        i=i+1\n",
    "    return x_result"
   ]
  },
  {
   "cell_type": "code",
   "execution_count": 2,
   "metadata": {},
   "outputs": [],
   "source": [
    "#Siguiente Punto\n",
    "def next_point(x): \n",
    "    return x - function(x)/dev_f(x)"
   ]
  },
  {
   "cell_type": "markdown",
   "metadata": {
    "slideshow": {
     "slide_type": "slide"
    }
   },
   "source": [
    "### Ejemplo: \n",
    "\n",
    "$$ f(x) = (x+2)(x-2)(x+4)$$"
   ]
  },
  {
   "cell_type": "code",
   "execution_count": 7,
   "metadata": {
    "slideshow": {
     "slide_type": "slide"
    }
   },
   "outputs": [],
   "source": [
    "#Funcion\n",
    "def function(x):\n",
    "    return (x+2)*(x-2)*(x+4)"
   ]
  },
  {
   "cell_type": "markdown",
   "metadata": {
    "slideshow": {
     "slide_type": "slide"
    }
   },
   "source": [
    "### Derivada Numérica: \n",
    "\n",
    "Definición y aproximación\n",
    "\n",
    "- por derecha: $f'(x_0) = \\lim_{\\Delta \\to 0}\\frac{f(x_0+\\Delta) - f(x_0)}{\\Delta} \\approx \\frac{f(x_0+\\Delta) - f(x_0)}{\\Delta}$\n",
    "- por izquierda: $f'(x_0) = \\lim_{\\Delta \\to 0}\\frac{f(x_0) - f(x_0-\\Delta)}{\\ \\Delta} \\approx \\frac{f(x_0) - f(x_0-Delta)}{\\Delta}$\n",
    "\n",
    "Diferencia Centrales: \n",
    "\n",
    "$$ f'(x_0) = \\frac{f(x_0+\\Delta) - f(x_0-\\Delta)}{ 2 \\Delta}$$"
   ]
  },
  {
   "cell_type": "code",
   "execution_count": 5,
   "metadata": {
    "slideshow": {
     "slide_type": "slide"
    }
   },
   "outputs": [],
   "source": [
    "#Derivada de la función\n",
    "def dev_f(x):\n",
    "    delta = 1e-6\n",
    "    return (function(x+delta) - function(x-delta))/(2*delta)"
   ]
  },
  {
   "cell_type": "code",
   "execution_count": 8,
   "metadata": {
    "slideshow": {
     "slide_type": "slide"
    }
   },
   "outputs": [
    {
     "name": "stdout",
     "output_type": "stream",
     "text": [
      "Newton: root = 2.0000\n"
     ]
    }
   ],
   "source": [
    "#Solucion Ejemplo:\n",
    "x_start = 1.5\n",
    "top = 50\n",
    "root = NR_method(x_start,top)\n",
    "print(\"Newton: root = {:.4f}\".format(root))"
   ]
  },
  {
   "cell_type": "code",
   "execution_count": 9,
   "metadata": {},
   "outputs": [
    {
     "name": "stdout",
     "output_type": "stream",
     "text": [
      "Newton: root = -2.0000\n"
     ]
    }
   ],
   "source": [
    "x_start = -1.5\n",
    "top = 50\n",
    "root = NR_method(x_start,top)\n",
    "print(\"Newton: root = {:.4f}\".format(root))"
   ]
  },
  {
   "cell_type": "code",
   "execution_count": 10,
   "metadata": {},
   "outputs": [
    {
     "name": "stdout",
     "output_type": "stream",
     "text": [
      "Newton: root = -4.0000\n"
     ]
    }
   ],
   "source": [
    "x_start = -3.5\n",
    "top = 50\n",
    "root = NR_method(x_start,top)\n",
    "print(\"Newton: root = {:.4f}\".format(root))"
   ]
  },
  {
   "cell_type": "markdown",
   "metadata": {
    "slideshow": {
     "slide_type": "slide"
    }
   },
   "source": [
    "### Gráfica"
   ]
  },
  {
   "cell_type": "code",
   "execution_count": 11,
   "metadata": {
    "slideshow": {
     "slide_type": "slide"
    }
   },
   "outputs": [],
   "source": [
    "#Librerias\n",
    "import matplotlib.pyplot as plt\n",
    "%matplotlib inline"
   ]
  },
  {
   "cell_type": "code",
   "execution_count": 12,
   "metadata": {
    "slideshow": {
     "slide_type": "slide"
    }
   },
   "outputs": [
    {
     "data": {
      "image/png": "[encoded data removed]",
      "text/plain": [
       "<Figure size 432x288 with 1 Axes>"
      ]
     },
     "metadata": {
      "needs_background": "light"
     },
     "output_type": "display_data"
    }
   ],
   "source": [
    "#Grafica: \n",
    "x = np.linspace(-6,6,100)\n",
    "y = (x+2)*(x-2)*(x+4)\n",
    "\n",
    "plt.figure()\n",
    "plt.grid(True)\n",
    "plt.plot(x,y,c='red',label=\"f(x)=(x+2)*(x-2)*(x+4)\")\n",
    "plt.scatter(-4,0,c='blue')\n",
    "plt.scatter(-2,0,c='blue')\n",
    "plt.scatter(2,0,c='blue')\n",
    "plt.legend()\n",
    "plt.legend(loc=2,frameon=True,title='Function')\n",
    "plt.show()"
   ]
  },
  {
   "cell_type": "code",
   "execution_count": null,
   "metadata": {},
   "outputs": [],
   "source": []
  }
 ],
 "metadata": {
  "kernelspec": {
   "display_name": "Python 3",
   "language": "python",
   "name": "python3"
  },
  "language_info": {
   "codemirror_mode": {
    "name": "ipython",
    "version": 3
   },
   "file_extension": ".py",
   "mimetype": "text/x-python",
   "name": "python",
   "nbconvert_exporter": "python",
   "pygments_lexer": "ipython3",
   "version": "3.7.4"
  }
 },
 "nbformat": 4,
 "nbformat_minor": 4
}
